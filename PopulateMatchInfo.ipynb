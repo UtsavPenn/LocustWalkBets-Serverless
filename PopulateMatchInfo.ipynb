{
 "cells": [
  {
   "cell_type": "code",
   "execution_count": 103,
   "metadata": {},
   "outputs": [],
   "source": [
    "import requests\n",
    "import icalendar\n",
    "import arrow\n",
    "\n",
    "from pynamodb.models import Model\n",
    "from pynamodb.attributes import UnicodeAttribute, NumberAttribute, BooleanAttribute\n"
   ]
  },
  {
   "cell_type": "code",
   "execution_count": 104,
   "metadata": {
    "collapsed": true
   },
   "outputs": [],
   "source": [
    "def get_ipl_calendar():\n",
    "    r = requests.get(\"http://www.espncricinfo.com/ci/content/series/1131611.ics?template=ical\")\n",
    "    return r.content"
   ]
  },
  {
   "cell_type": "code",
   "execution_count": 105,
   "metadata": {},
   "outputs": [],
   "source": [
    "class MatchInfoModel(Model):\n",
    "    \"\"\"\n",
    "    \"\"\"\n",
    "    class Meta:\n",
    "        table_name = 'MatchInfoTable'\n",
    "        region = 'us-east-1'\n",
    "    match_id = NumberAttribute(hash_key=True)\n",
    "    home_team = UnicodeAttribute()\n",
    "    away_team = UnicodeAttribute()\n",
    "    start_time = UnicodeAttribute()\n",
    "    bets_processed = BooleanAttribute(default=False)\n"
   ]
  },
  {
   "cell_type": "code",
   "execution_count": 106,
   "metadata": {},
   "outputs": [],
   "source": [
    "calendar = icalendar.Calendar.from_ical(get_ipl_calendar())\n",
    "\n",
    "def get_match_id(component):\n",
    "    return int(component['UID'].split('_')[0])\n",
    "\n",
    "def get_home_team(component):\n",
    "    first_part = component['SUMMARY'].split(\" v \")[0]\n",
    "    return \" \".join(first_part.split()[2:]) or \"TBD\"\n",
    "\n",
    "def get_away_team(component):\n",
    "    return component['SUMMARY'].split(\" v \")[1]\n",
    "\n",
    "def get_start_time(component):\n",
    "    return component['DTSTART'].to_ical().decode('utf-8')\n",
    "    \n",
    "\n",
    "for match in calendar.subcomponents:\n",
    "    match_info = MatchInfoModel()\n",
    "    match_info.match_id = get_match_id(match)\n",
    "    match_info.home_team = get_home_team(match)\n",
    "    match_info.away_team = get_away_team(match)\n",
    "    match_info.start_time = get_start_time(match)\n",
    "    match_info.save()\n"
   ]
  }
 ],
 "metadata": {
  "kernelspec": {
   "display_name": "Python 3",
   "language": "python",
   "name": "python3"
  },
  "language_info": {
   "codemirror_mode": {
    "name": "ipython",
    "version": 3
   },
   "file_extension": ".py",
   "mimetype": "text/x-python",
   "name": "python",
   "nbconvert_exporter": "python",
   "pygments_lexer": "ipython3",
   "version": "3.6.1"
  }
 },
 "nbformat": 4,
 "nbformat_minor": 2
}
